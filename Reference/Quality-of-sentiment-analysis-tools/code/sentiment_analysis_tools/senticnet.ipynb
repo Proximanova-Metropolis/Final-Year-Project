{
 "cells": [
  {
   "cell_type": "code",
   "execution_count": 2,
   "metadata": {},
   "outputs": [],
   "source": [
    "import numpy as np\n",
    "import gensim\n",
    "import pandas as pd\n",
    "from sentic import SenticPhrase\n",
    "from os.path import isfile , join\n",
    "import operator\n",
    "import os"
   ]
  },
  {
   "cell_type": "code",
   "execution_count": 3,
   "metadata": {},
   "outputs": [],
   "source": [
    "def sentiment_analyzer_scores(sentence):\n",
    "\n",
    "    sp1 = SenticPhrase(sentence)\n",
    "\n",
    "    score = sp1.get_sentiment (sentence)\n",
    "\n",
    "    if \"positive\" in score: score = 'Positive'\n",
    "\n",
    "    if \"negative\" in score: score = 'Negative'\n",
    "\n",
    "    if \"neutral\" in score: score = 'Neutral'\n",
    "\n",
    "    return score"
   ]
  },
  {
   "cell_type": "code",
   "execution_count": 4,
   "metadata": {},
   "outputs": [
    {
     "name": "stdout",
     "output_type": "stream",
     "text": [
      "e:\\Programming\\Final Year Project\\Quality-of-sentiment-analysis-tools\n"
     ]
    }
   ],
   "source": [
    "d = os.path.dirname(os.getcwd())\n",
    "dd = os.path.dirname(d)\n",
    "print(dd)"
   ]
  },
  {
   "cell_type": "code",
   "execution_count": 76,
   "metadata": {},
   "outputs": [
    {
     "name": "stdout",
     "output_type": "stream",
     "text": [
      "   ID                                           Comments  \\\n",
      "0   0  Tell Biden if he fixes the inflation, The gas ...   \n",
      "1   1  Once again Fake News showing old fake news cra...   \n",
      "2   2  The crooks in DC want to rape the world 🌎.  Ca...   \n",
      "3   3  All these people claiming that they want to fi...   \n",
      "4   4  Kick ass Vladimir. Greatest statesman of the c...   \n",
      "\n",
      "                   Comment ID  Reply count  Like count          Published at  \n",
      "0  UgyRvi3oz-A1yD19nnx4AaABAg            0           0  2022-03-19T21:45:53Z  \n",
      "1  UgySDaQnI_CkUW8OEIV4AaABAg            0           1  2022-03-19T13:00:55Z  \n",
      "2  UgwbOB-sGjObW7qY-ft4AaABAg            0           0  2022-03-18T02:25:50Z  \n",
      "3  UgwjGg-RCT3JTeU5eoh4AaABAg            0           0  2022-03-18T02:21:13Z  \n",
      "4  UgyDCaa7AhdCn34sqsN4AaABAg            0           0  2022-03-18T02:18:52Z  \n"
     ]
    }
   ],
   "source": [
    "df_input=pd.read_excel(os.path.join(f\"{dd}\", \"dataset/Ukraine/ABC News - Russian troops close in on Ukrainian capital of Kyiv_final.xlsx\"))\n",
    "#dataset/Ukraine/ABC News - Russian troops close in on Ukrainian capital of Kyiv_final.xlsx\n",
    "#dataset/Khaled/DJ Khaled - EVERY CHANCE I GET (Official Music Video)_final.xlsx\n",
    "#dataset/Minecraft Speedrunner/Minecraft_Speedrunner_Top20k.xlsx\n",
    "#dataset/MrBeast/mrbeast_Top20k.xlsx\n",
    "\n",
    "df_output=pd.DataFrame (columns=[\"ID\", \"Comments\", \"Score\"])\n",
    "\n",
    "print(df_input.head())"
   ]
  },
  {
   "cell_type": "code",
   "execution_count": 65,
   "metadata": {},
   "outputs": [
    {
     "name": "stdout",
     "output_type": "stream",
     "text": [
      "          ID                                           Comments\n",
      "0          0  Tell Biden if he fixes the inflation, The gas ...\n",
      "1          1  Once again Fake News showing old fake news cra...\n",
      "2          2  The crooks in DC want to rape the world 🌎.  Ca...\n",
      "3          3  All these people claiming that they want to fi...\n",
      "4          4  Kick ass Vladimir. Greatest statesman of the c...\n",
      "...      ...                                                ...\n",
      "14346  14346                            Wishing for the best ❤️\n",
      "14347  14347                                         DARKNESS🤘☻\n",
      "14348  14348  I believe this could have been prevented. In s...\n",
      "14349  14349  *The whole truth about the coronavirus. Watch ...\n",
      "14350  14350  The European Union, the United States , the Un...\n",
      "\n",
      "[14351 rows x 2 columns]\n"
     ]
    }
   ],
   "source": [
    "df_input_comments = df_input[df_input.columns[:2]]\n",
    "print(df_input_comments)\n",
    "\n",
    "sentimentData_sentence = []"
   ]
  },
  {
   "cell_type": "code",
   "execution_count": 69,
   "metadata": {},
   "outputs": [
    {
     "name": "stdout",
     "output_type": "stream",
     "text": [
      "72\n",
      "172\n",
      "272\n",
      "372\n",
      "472\n",
      "572\n",
      "672\n",
      "772\n",
      "872\n",
      "972\n",
      "1072\n",
      "1172\n",
      "1272\n",
      "1372\n",
      "1472\n",
      "1572\n",
      "1672\n",
      "1772\n",
      "1872\n",
      "1972\n",
      "2072\n",
      "2172\n",
      "2272\n",
      "2372\n",
      "2472\n",
      "2572\n",
      "2672\n",
      "2772\n",
      "2872\n",
      "2972\n",
      "3072\n",
      "3172\n",
      "3272\n",
      "3372\n",
      "3472\n",
      "3572\n",
      "3672\n",
      "3772\n",
      "3872\n",
      "3972\n",
      "4072\n",
      "4172\n",
      "4272\n",
      "4372\n",
      "4472\n",
      "4572\n",
      "4672\n",
      "4772\n",
      "4872\n",
      "4972\n",
      "5072\n",
      "5172\n",
      "5272\n",
      "5372\n",
      "5472\n",
      "5572\n",
      "5672\n",
      "5772\n",
      "5872\n",
      "5972\n",
      "6072\n",
      "6172\n",
      "6272\n",
      "6372\n",
      "6472\n",
      "6572\n",
      "6672\n",
      "6772\n",
      "6872\n",
      "6972\n",
      "7072\n",
      "7172\n",
      "7272\n",
      "7372\n",
      "7472\n",
      "7572\n",
      "7672\n",
      "7772\n",
      "7872\n",
      "7972\n",
      "8072\n",
      "8172\n",
      "8272\n",
      "8372\n",
      "8472\n",
      "8572\n",
      "8672\n",
      "8772\n",
      "8872\n",
      "8972\n",
      "9072\n",
      "9172\n",
      "9272\n",
      "9372\n",
      "9472\n",
      "9572\n",
      "9672\n",
      "9772\n",
      "9872\n",
      "9972\n",
      "10072\n",
      "10172\n",
      "10272\n",
      "10372\n",
      "10472\n",
      "10572\n",
      "10672\n",
      "10772\n",
      "10872\n",
      "10972\n",
      "11072\n",
      "11172\n",
      "11272\n",
      "11372\n",
      "11472\n",
      "11572\n",
      "11672\n",
      "11772\n",
      "11872\n",
      "11972\n",
      "12072\n",
      "12172\n",
      "12272\n",
      "12372\n",
      "12472\n",
      "12572\n",
      "12672\n",
      "12772\n",
      "12872\n",
      "12972\n",
      "13072\n",
      "13172\n",
      "13272\n",
      "13372\n",
      "13472\n",
      "13572\n",
      "13672\n",
      "13772\n",
      "13872\n",
      "13972\n",
      "14072\n",
      "14172\n",
      "14272\n"
     ]
    }
   ],
   "source": [
    "for i in range (len(df_input_comments)):\n",
    "    # data = [line.strip() for line in df_input_comments[i]]\n",
    "\n",
    "    # sentences = [[word.lower() for word in text.split()] for text in data]\n",
    "\n",
    "    sentimentData_sentence.append(sentiment_analyzer_scores(df_input_comments.iloc[i][1]))\n",
    "    #https://stackoverflow.com/questions/34724246/attributeerror-float-object-has-no-attribute-lower\n",
    "\n",
    "    if i % 100 == 72:\n",
    "        print(i)"
   ]
  },
  {
   "cell_type": "code",
   "execution_count": 73,
   "metadata": {},
   "outputs": [
    {
     "data": {
      "text/plain": [
       "28702"
      ]
     },
     "execution_count": 73,
     "metadata": {},
     "output_type": "execute_result"
    }
   ],
   "source": [
    "len(sentimentData_sentence)"
   ]
  },
  {
   "cell_type": "code",
   "execution_count": 77,
   "metadata": {},
   "outputs": [
    {
     "name": "stdout",
     "output_type": "stream",
     "text": [
      "          ID                                           Comments Score  \\\n",
      "0          0  Tell Biden if he fixes the inflation, The gas ...   NaN   \n",
      "1          1  Once again Fake News showing old fake news cra...   NaN   \n",
      "2          2  The crooks in DC want to rape the world 🌎.  Ca...   NaN   \n",
      "3          3  All these people claiming that they want to fi...   NaN   \n",
      "4          4  Kick ass Vladimir. Greatest statesman of the c...   NaN   \n",
      "...      ...                                                ...   ...   \n",
      "14346  14346                            Wishing for the best ❤️   NaN   \n",
      "14347  14347                                         DARKNESS🤘☻   NaN   \n",
      "14348  14348  I believe this could have been prevented. In s...   NaN   \n",
      "14349  14349  *The whole truth about the coronavirus. Watch ...   NaN   \n",
      "14350  14350  The European Union, the United States , the Un...   NaN   \n",
      "\n",
      "       Polarity  \n",
      "0      Positive  \n",
      "1      Negative  \n",
      "2      Positive  \n",
      "3      Negative  \n",
      "4      Positive  \n",
      "...         ...  \n",
      "14346  Positive  \n",
      "14347   Neutral  \n",
      "14348  Positive  \n",
      "14349  Positive  \n",
      "14350  Negative  \n",
      "\n",
      "[14351 rows x 4 columns]\n"
     ]
    }
   ],
   "source": [
    "df_output[\"ID\"] = df_input_comments[\"ID\"]\n",
    "df_output[\"Comments\"] = df_input_comments[\"Comments\"]\n",
    "df_output[\"Polarity\"] = sentimentData_sentence[:len(df_input_comments)]\n",
    "\n",
    "print(df_output)"
   ]
  },
  {
   "cell_type": "code",
   "execution_count": 78,
   "metadata": {},
   "outputs": [],
   "source": [
    "df_output.to_excel(os.path.join(f\"{dd}\", \"dataset/Ukraine/Senticnet_ABC News - Russian troops close in on Ukrainian capital of Kyiv_final.xlsx\"))\n",
    "#dataset/Ukraine/Senticnet_ABC News - Russian troops close in on Ukrainian capital of Kyiv_final.xlsx\n",
    "#dataset/Khaled/Senticnet_DJ Khaled - EVERY CHANCE I GET (Official Music Video)_final.xlsx\n",
    "#dataset/Minecraft Speedrunner/Senticnet_Minecraft_Speedrunner_final.xlsx\n",
    "#dataset/MrBeast/Senticnet_mrbeast_Top20k.xlsx"
   ]
  },
  {
   "cell_type": "code",
   "execution_count": null,
   "metadata": {},
   "outputs": [],
   "source": []
  }
 ],
 "metadata": {
  "interpreter": {
   "hash": "ac59ebe37160ed0dfa835113d9b8498d9f09ceb179beaac4002f036b9467c963"
  },
  "kernelspec": {
   "display_name": "Python 3.9.6 64-bit",
   "language": "python",
   "name": "python3"
  },
  "language_info": {
   "codemirror_mode": {
    "name": "ipython",
    "version": 3
   },
   "file_extension": ".py",
   "mimetype": "text/x-python",
   "name": "python",
   "nbconvert_exporter": "python",
   "pygments_lexer": "ipython3",
   "version": "3.9.6"
  },
  "orig_nbformat": 4
 },
 "nbformat": 4,
 "nbformat_minor": 2
}
