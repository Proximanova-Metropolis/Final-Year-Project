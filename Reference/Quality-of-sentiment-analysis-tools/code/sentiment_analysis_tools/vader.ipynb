{
 "cells": [
  {
   "cell_type": "code",
   "execution_count": 1,
   "metadata": {},
   "outputs": [],
   "source": [
    "from vaderSentiment.vaderSentiment import SentimentIntensityAnalyzer\n",
    "import pandas as pd\n",
    "import operator\n",
    "import os"
   ]
  },
  {
   "cell_type": "code",
   "execution_count": 191,
   "metadata": {},
   "outputs": [
    {
     "data": {
      "text/plain": [
       "'Positive'"
      ]
     },
     "execution_count": 191,
     "metadata": {},
     "output_type": "execute_result"
    }
   ],
   "source": [
    "analyser = SentimentIntensityAnalyzer()\n",
    "neg_threshold = -0.05\n",
    "pos_threshold = 0.05\n",
    "def sentiment_analyser_scores(sentence):\n",
    "    score = analyser.polarity_scores(sentence)\n",
    "    score['Compound'] = score.pop(\"compound\")\n",
    "    if score['Compound'] <= neg_threshold:\n",
    "        score['Polarity']  = 'Negative'\n",
    "    elif score['Compound'] > neg_threshold and score['Compound'] < pos_threshold:\n",
    "        score['Polarity']  = 'Neutral'\n",
    "    elif score['Compound'] >= pos_threshold:\n",
    "        score['Polarity']  = 'Positive'\n",
    "    return score['Polarity']\n",
    "\n",
    "sentiment_analyser_scores(\"wonderful\")"
   ]
  },
  {
   "cell_type": "code",
   "execution_count": 10,
   "metadata": {},
   "outputs": [
    {
     "name": "stdout",
     "output_type": "stream",
     "text": [
      "e:\\Programming\\Final Year Project\\Quality-of-sentiment-analysis-tools\n"
     ]
    }
   ],
   "source": [
    "d = os.path.dirname(os.getcwd())\n",
    "dd = os.path.dirname(d)\n",
    "print(dd)"
   ]
  },
  {
   "cell_type": "code",
   "execution_count": 185,
   "metadata": {},
   "outputs": [
    {
     "name": "stdout",
     "output_type": "stream",
     "text": [
      "   ID                                           Comments  \\\n",
      "0   0  Like I said in the video, subscribe if you hav...   \n",
      "1   1  Imagine if the coffin got broken and the dirt ...   \n",
      "2   2                                             omgose   \n",
      "3   3                                    I can't do that   \n",
      "4   4             How do you pee when you're in a coffin   \n",
      "\n",
      "                   Comment ID  Reply count  Like count        Published at  \n",
      "0  Ugyyuz4hNbmw0EE-jRV4AaABAg          420      259269 2021-03-28 07:31:32  \n",
      "1  UgzqOCC1COWN94Y0iZV4AaABAg            0           0 2022-02-20 16:52:14  \n",
      "2  UgzxiOusLfK4wxRXUDR4AaABAg            0           0 2022-02-20 16:34:03  \n",
      "3  UgzrShgUA6UjBIyMOIJ4AaABAg            0           0 2022-02-20 16:18:41  \n",
      "4  UgzlO5k9ejcN61G_G3l4AaABAg            0           0 2022-02-20 15:48:44  \n"
     ]
    }
   ],
   "source": [
    "df_input=pd.read_excel(os.path.join(f\"{dd}\", \"dataset/MrBeast/mrbeast_Top20k.xlsx\"))\n",
    "#dataset/Ukraine/ABC News - Russian troops close in on Ukrainian capital of Kyiv_final.xlsx\n",
    "#dataset/Khaled/DJ Khaled - EVERY CHANCE I GET (Official Music Video)_final.xlsx\n",
    "#dataset/Minecraft Speedrunner/Minecraft_Speedrunner_Top20k.xlsx\n",
    "#dataset/MrBeast/mrbeast_Top20k.xlsx\n",
    "\n",
    "df_output=pd.DataFrame (columns=[\"ID\", \"Comments\", \"Score\"])\n",
    "\n",
    "print(df_input.head())"
   ]
  },
  {
   "cell_type": "code",
   "execution_count": 186,
   "metadata": {},
   "outputs": [
    {
     "name": "stdout",
     "output_type": "stream",
     "text": [
      "                                                Comments\n",
      "0      Like I said in the video, subscribe if you hav...\n",
      "1      Imagine if the coffin got broken and the dirt ...\n",
      "2                                                 omgose\n",
      "3                                        I can't do that\n",
      "4                 How do you pee when you're in a coffin\n",
      "...                                                  ...\n",
      "19995                             How did he take shits*\n",
      "19996                                        Fine subbed\n",
      "19997  jimmy: burys himself alive\\nMy claustrophobia:...\n",
      "19998  Me caerian de maravilla 10k para ayudar a mi mamá\n",
      "19999                               69,420,000 MILLION!!\n",
      "\n",
      "[20000 rows x 1 columns]\n"
     ]
    }
   ],
   "source": [
    "df_input_comments = df_input.iloc[:,[1]]\n",
    "print(df_input_comments)"
   ]
  },
  {
   "cell_type": "code",
   "execution_count": 187,
   "metadata": {},
   "outputs": [],
   "source": [
    "vaderData_sentence = []\n",
    "\n",
    "for i in range(len(df_input_comments)):\n",
    "    vaderData_sentence.append(sentiment_analyser_scores(df_input_comments.astype(str).iloc[i]))"
   ]
  },
  {
   "cell_type": "code",
   "execution_count": 188,
   "metadata": {},
   "outputs": [
    {
     "data": {
      "text/plain": [
       "{'Negative': 2217, 'Neutral': 11671, 'Positive': 6112}"
      ]
     },
     "execution_count": 188,
     "metadata": {},
     "output_type": "execute_result"
    }
   ],
   "source": [
    "import numpy as np\n",
    "unique, counts = np.unique(vaderData_sentence, return_counts=True)\n",
    "dict(zip(unique, counts))"
   ]
  },
  {
   "cell_type": "code",
   "execution_count": 189,
   "metadata": {},
   "outputs": [
    {
     "name": "stdout",
     "output_type": "stream",
     "text": [
      "          ID                                           Comments Score  \\\n",
      "0          0  Like I said in the video, subscribe if you hav...   NaN   \n",
      "1          1  Imagine if the coffin got broken and the dirt ...   NaN   \n",
      "2          2                                             omgose   NaN   \n",
      "3          3                                    I can't do that   NaN   \n",
      "4          4             How do you pee when you're in a coffin   NaN   \n",
      "...      ...                                                ...   ...   \n",
      "19995  19995                             How did he take shits*   NaN   \n",
      "19996  19996                                        Fine subbed   NaN   \n",
      "19997  19997  jimmy: burys himself alive\\nMy claustrophobia:...   NaN   \n",
      "19998  19998  Me caerian de maravilla 10k para ayudar a mi mamá   NaN   \n",
      "19999  19999                               69,420,000 MILLION!!   NaN   \n",
      "\n",
      "       Polarity  \n",
      "0      Positive  \n",
      "1      Negative  \n",
      "2       Neutral  \n",
      "3       Neutral  \n",
      "4       Neutral  \n",
      "...         ...  \n",
      "19995  Negative  \n",
      "19996  Positive  \n",
      "19997  Positive  \n",
      "19998   Neutral  \n",
      "19999   Neutral  \n",
      "\n",
      "[20000 rows x 4 columns]\n"
     ]
    }
   ],
   "source": [
    "df_output[\"ID\"] = df_input.iloc[:,[0]]\n",
    "df_output[\"Comments\"] = df_input_comments[\"Comments\"]\n",
    "df_output[\"Polarity\"] = vaderData_sentence[:len(df_input)]\n",
    "\n",
    "print(df_output)"
   ]
  },
  {
   "cell_type": "code",
   "execution_count": 190,
   "metadata": {},
   "outputs": [],
   "source": [
    "df_output.to_excel(os.path.join(f\"{dd}\", \"dataset/MrBeast/Vader_mrbeast_Top20k.xlsx\"))\n",
    "#dataset/Ukraine/Vader_ABC News - Russian troops close in on Ukrainian capital of Kyiv_final.xlsx\n",
    "#dataset/Khaled/Vader_DJ Khaled - EVERY CHANCE I GET (Official Music Video)_final.xlsx\n",
    "#dataset/Minecraft Speedrunner/Vader_Minecraft_Speedrunner_final.xlsx\n",
    "#dataset/MrBeast/Vader_mrbeast_Top20k.xlsx"
   ]
  },
  {
   "cell_type": "code",
   "execution_count": null,
   "metadata": {},
   "outputs": [],
   "source": []
  }
 ],
 "metadata": {
  "interpreter": {
   "hash": "ac59ebe37160ed0dfa835113d9b8498d9f09ceb179beaac4002f036b9467c963"
  },
  "kernelspec": {
   "display_name": "Python 3.9.6 64-bit",
   "language": "python",
   "name": "python3"
  },
  "language_info": {
   "codemirror_mode": {
    "name": "ipython",
    "version": 3
   },
   "file_extension": ".py",
   "mimetype": "text/x-python",
   "name": "python",
   "nbconvert_exporter": "python",
   "pygments_lexer": "ipython3",
   "version": "3.9.6"
  },
  "orig_nbformat": 4
 },
 "nbformat": 4,
 "nbformat_minor": 2
}
